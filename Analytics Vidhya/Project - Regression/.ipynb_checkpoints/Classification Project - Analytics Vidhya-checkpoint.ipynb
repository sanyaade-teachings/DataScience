{
 "cells": [
  {
   "cell_type": "code",
   "execution_count": 72,
   "metadata": {},
   "outputs": [],
   "source": [
    "# Required Library Imports\n",
    "\n",
    "import pandas as pd\n",
    "import numpy as np\n",
    "%matplotlib inline\n",
    "import matplotlib.pyplot as plt"
   ]
  },
  {
   "cell_type": "code",
   "execution_count": 73,
   "metadata": {},
   "outputs": [],
   "source": [
    "# Reading Training and Test CSV Files\n",
    "\n",
    "train = pd.read_csv(\"train.csv\", index_col=\"ID\")\n",
    "test = pd.read_csv(\"test.csv\", index_col=\"ID\")"
   ]
  },
  {
   "cell_type": "code",
   "execution_count": 74,
   "metadata": {},
   "outputs": [],
   "source": [
    "# No use of it, just did for fun\n",
    "\n",
    "train_length = train.shape[0]\n",
    "test_length = test.shape[0]"
   ]
  },
  {
   "cell_type": "code",
   "execution_count": 75,
   "metadata": {},
   "outputs": [
    {
     "data": {
      "text/html": [
       "<div>\n",
       "<style scoped>\n",
       "    .dataframe tbody tr th:only-of-type {\n",
       "        vertical-align: middle;\n",
       "    }\n",
       "\n",
       "    .dataframe tbody tr th {\n",
       "        vertical-align: top;\n",
       "    }\n",
       "\n",
       "    .dataframe thead th {\n",
       "        text-align: right;\n",
       "    }\n",
       "</style>\n",
       "<table border=\"1\" class=\"dataframe\">\n",
       "  <thead>\n",
       "    <tr style=\"text-align: right;\">\n",
       "      <th></th>\n",
       "      <th>Office_PIN</th>\n",
       "      <th>Application_Receipt_Date</th>\n",
       "      <th>Applicant_City_PIN</th>\n",
       "      <th>Applicant_Gender</th>\n",
       "      <th>Applicant_BirthDate</th>\n",
       "      <th>Applicant_Marital_Status</th>\n",
       "      <th>Applicant_Occupation</th>\n",
       "      <th>Applicant_Qualification</th>\n",
       "      <th>Manager_DOJ</th>\n",
       "      <th>Manager_Joining_Designation</th>\n",
       "      <th>...</th>\n",
       "      <th>Manager_Status</th>\n",
       "      <th>Manager_Gender</th>\n",
       "      <th>Manager_DoB</th>\n",
       "      <th>Manager_Num_Application</th>\n",
       "      <th>Manager_Num_Coded</th>\n",
       "      <th>Manager_Business</th>\n",
       "      <th>Manager_Num_Products</th>\n",
       "      <th>Manager_Business2</th>\n",
       "      <th>Manager_Num_Products2</th>\n",
       "      <th>Business_Sourced</th>\n",
       "    </tr>\n",
       "    <tr>\n",
       "      <th>ID</th>\n",
       "      <th></th>\n",
       "      <th></th>\n",
       "      <th></th>\n",
       "      <th></th>\n",
       "      <th></th>\n",
       "      <th></th>\n",
       "      <th></th>\n",
       "      <th></th>\n",
       "      <th></th>\n",
       "      <th></th>\n",
       "      <th></th>\n",
       "      <th></th>\n",
       "      <th></th>\n",
       "      <th></th>\n",
       "      <th></th>\n",
       "      <th></th>\n",
       "      <th></th>\n",
       "      <th></th>\n",
       "      <th></th>\n",
       "      <th></th>\n",
       "      <th></th>\n",
       "    </tr>\n",
       "  </thead>\n",
       "  <tbody>\n",
       "    <tr>\n",
       "      <th>FIN1000001</th>\n",
       "      <td>842001</td>\n",
       "      <td>4/16/2007</td>\n",
       "      <td>844120.0</td>\n",
       "      <td>M</td>\n",
       "      <td>12/19/1971</td>\n",
       "      <td>M</td>\n",
       "      <td>Others</td>\n",
       "      <td>Graduate</td>\n",
       "      <td>11/10/2005</td>\n",
       "      <td>Level 1</td>\n",
       "      <td>...</td>\n",
       "      <td>Confirmation</td>\n",
       "      <td>M</td>\n",
       "      <td>2/17/1978</td>\n",
       "      <td>2.0</td>\n",
       "      <td>1.0</td>\n",
       "      <td>335249.0</td>\n",
       "      <td>28.0</td>\n",
       "      <td>335249.0</td>\n",
       "      <td>28.0</td>\n",
       "      <td>0</td>\n",
       "    </tr>\n",
       "    <tr>\n",
       "      <th>FIN1000002</th>\n",
       "      <td>842001</td>\n",
       "      <td>4/16/2007</td>\n",
       "      <td>844111.0</td>\n",
       "      <td>M</td>\n",
       "      <td>2/17/1983</td>\n",
       "      <td>S</td>\n",
       "      <td>Others</td>\n",
       "      <td>Class XII</td>\n",
       "      <td>11/10/2005</td>\n",
       "      <td>Level 1</td>\n",
       "      <td>...</td>\n",
       "      <td>Confirmation</td>\n",
       "      <td>M</td>\n",
       "      <td>2/17/1978</td>\n",
       "      <td>2.0</td>\n",
       "      <td>1.0</td>\n",
       "      <td>335249.0</td>\n",
       "      <td>28.0</td>\n",
       "      <td>335249.0</td>\n",
       "      <td>28.0</td>\n",
       "      <td>1</td>\n",
       "    </tr>\n",
       "    <tr>\n",
       "      <th>FIN1000003</th>\n",
       "      <td>800001</td>\n",
       "      <td>4/16/2007</td>\n",
       "      <td>844101.0</td>\n",
       "      <td>M</td>\n",
       "      <td>1/16/1966</td>\n",
       "      <td>M</td>\n",
       "      <td>Business</td>\n",
       "      <td>Class XII</td>\n",
       "      <td>5/27/2006</td>\n",
       "      <td>Level 1</td>\n",
       "      <td>...</td>\n",
       "      <td>Confirmation</td>\n",
       "      <td>M</td>\n",
       "      <td>3/3/1969</td>\n",
       "      <td>0.0</td>\n",
       "      <td>0.0</td>\n",
       "      <td>357184.0</td>\n",
       "      <td>24.0</td>\n",
       "      <td>357184.0</td>\n",
       "      <td>24.0</td>\n",
       "      <td>0</td>\n",
       "    </tr>\n",
       "    <tr>\n",
       "      <th>FIN1000004</th>\n",
       "      <td>814112</td>\n",
       "      <td>4/16/2007</td>\n",
       "      <td>814112.0</td>\n",
       "      <td>M</td>\n",
       "      <td>2/3/1988</td>\n",
       "      <td>S</td>\n",
       "      <td>Salaried</td>\n",
       "      <td>Class XII</td>\n",
       "      <td>8/21/2003</td>\n",
       "      <td>Level 1</td>\n",
       "      <td>...</td>\n",
       "      <td>Confirmation</td>\n",
       "      <td>F</td>\n",
       "      <td>8/14/1978</td>\n",
       "      <td>0.0</td>\n",
       "      <td>0.0</td>\n",
       "      <td>318356.0</td>\n",
       "      <td>22.0</td>\n",
       "      <td>318356.0</td>\n",
       "      <td>22.0</td>\n",
       "      <td>0</td>\n",
       "    </tr>\n",
       "    <tr>\n",
       "      <th>FIN1000005</th>\n",
       "      <td>814112</td>\n",
       "      <td>4/16/2007</td>\n",
       "      <td>815351.0</td>\n",
       "      <td>M</td>\n",
       "      <td>7/4/1985</td>\n",
       "      <td>M</td>\n",
       "      <td>Others</td>\n",
       "      <td>Class XII</td>\n",
       "      <td>5/8/2006</td>\n",
       "      <td>Level 1</td>\n",
       "      <td>...</td>\n",
       "      <td>Confirmation</td>\n",
       "      <td>M</td>\n",
       "      <td>2/7/1971</td>\n",
       "      <td>2.0</td>\n",
       "      <td>1.0</td>\n",
       "      <td>230402.0</td>\n",
       "      <td>17.0</td>\n",
       "      <td>230402.0</td>\n",
       "      <td>17.0</td>\n",
       "      <td>0</td>\n",
       "    </tr>\n",
       "  </tbody>\n",
       "</table>\n",
       "<p>5 rows × 22 columns</p>\n",
       "</div>"
      ],
      "text/plain": [
       "            Office_PIN Application_Receipt_Date  Applicant_City_PIN  \\\n",
       "ID                                                                    \n",
       "FIN1000001      842001                4/16/2007            844120.0   \n",
       "FIN1000002      842001                4/16/2007            844111.0   \n",
       "FIN1000003      800001                4/16/2007            844101.0   \n",
       "FIN1000004      814112                4/16/2007            814112.0   \n",
       "FIN1000005      814112                4/16/2007            815351.0   \n",
       "\n",
       "           Applicant_Gender Applicant_BirthDate Applicant_Marital_Status  \\\n",
       "ID                                                                         \n",
       "FIN1000001                M          12/19/1971                        M   \n",
       "FIN1000002                M           2/17/1983                        S   \n",
       "FIN1000003                M           1/16/1966                        M   \n",
       "FIN1000004                M            2/3/1988                        S   \n",
       "FIN1000005                M            7/4/1985                        M   \n",
       "\n",
       "           Applicant_Occupation Applicant_Qualification Manager_DOJ  \\\n",
       "ID                                                                    \n",
       "FIN1000001               Others                Graduate  11/10/2005   \n",
       "FIN1000002               Others               Class XII  11/10/2005   \n",
       "FIN1000003             Business               Class XII   5/27/2006   \n",
       "FIN1000004             Salaried               Class XII   8/21/2003   \n",
       "FIN1000005               Others               Class XII    5/8/2006   \n",
       "\n",
       "           Manager_Joining_Designation        ...        Manager_Status  \\\n",
       "ID                                            ...                         \n",
       "FIN1000001                     Level 1        ...          Confirmation   \n",
       "FIN1000002                     Level 1        ...          Confirmation   \n",
       "FIN1000003                     Level 1        ...          Confirmation   \n",
       "FIN1000004                     Level 1        ...          Confirmation   \n",
       "FIN1000005                     Level 1        ...          Confirmation   \n",
       "\n",
       "            Manager_Gender Manager_DoB Manager_Num_Application  \\\n",
       "ID                                                               \n",
       "FIN1000001               M   2/17/1978                     2.0   \n",
       "FIN1000002               M   2/17/1978                     2.0   \n",
       "FIN1000003               M    3/3/1969                     0.0   \n",
       "FIN1000004               F   8/14/1978                     0.0   \n",
       "FIN1000005               M    2/7/1971                     2.0   \n",
       "\n",
       "           Manager_Num_Coded  Manager_Business  Manager_Num_Products  \\\n",
       "ID                                                                     \n",
       "FIN1000001               1.0          335249.0                  28.0   \n",
       "FIN1000002               1.0          335249.0                  28.0   \n",
       "FIN1000003               0.0          357184.0                  24.0   \n",
       "FIN1000004               0.0          318356.0                  22.0   \n",
       "FIN1000005               1.0          230402.0                  17.0   \n",
       "\n",
       "            Manager_Business2  Manager_Num_Products2  Business_Sourced  \n",
       "ID                                                                      \n",
       "FIN1000001           335249.0                   28.0                 0  \n",
       "FIN1000002           335249.0                   28.0                 1  \n",
       "FIN1000003           357184.0                   24.0                 0  \n",
       "FIN1000004           318356.0                   22.0                 0  \n",
       "FIN1000005           230402.0                   17.0                 0  \n",
       "\n",
       "[5 rows x 22 columns]"
      ]
     },
     "execution_count": 75,
     "metadata": {},
     "output_type": "execute_result"
    }
   ],
   "source": [
    "# Return top 5 rows from training dataset\n",
    "\n",
    "train.head()"
   ]
  },
  {
   "cell_type": "code",
   "execution_count": 76,
   "metadata": {},
   "outputs": [
    {
     "data": {
      "text/html": [
       "<div>\n",
       "<style scoped>\n",
       "    .dataframe tbody tr th:only-of-type {\n",
       "        vertical-align: middle;\n",
       "    }\n",
       "\n",
       "    .dataframe tbody tr th {\n",
       "        vertical-align: top;\n",
       "    }\n",
       "\n",
       "    .dataframe thead th {\n",
       "        text-align: right;\n",
       "    }\n",
       "</style>\n",
       "<table border=\"1\" class=\"dataframe\">\n",
       "  <thead>\n",
       "    <tr style=\"text-align: right;\">\n",
       "      <th></th>\n",
       "      <th>Office_PIN</th>\n",
       "      <th>Application_Receipt_Date</th>\n",
       "      <th>Applicant_City_PIN</th>\n",
       "      <th>Applicant_Gender</th>\n",
       "      <th>Applicant_BirthDate</th>\n",
       "      <th>Applicant_Marital_Status</th>\n",
       "      <th>Applicant_Occupation</th>\n",
       "      <th>Applicant_Qualification</th>\n",
       "      <th>Manager_DOJ</th>\n",
       "      <th>Manager_Joining_Designation</th>\n",
       "      <th>...</th>\n",
       "      <th>Manager_Grade</th>\n",
       "      <th>Manager_Status</th>\n",
       "      <th>Manager_Gender</th>\n",
       "      <th>Manager_DoB</th>\n",
       "      <th>Manager_Num_Application</th>\n",
       "      <th>Manager_Num_Coded</th>\n",
       "      <th>Manager_Business</th>\n",
       "      <th>Manager_Num_Products</th>\n",
       "      <th>Manager_Business2</th>\n",
       "      <th>Manager_Num_Products2</th>\n",
       "    </tr>\n",
       "    <tr>\n",
       "      <th>ID</th>\n",
       "      <th></th>\n",
       "      <th></th>\n",
       "      <th></th>\n",
       "      <th></th>\n",
       "      <th></th>\n",
       "      <th></th>\n",
       "      <th></th>\n",
       "      <th></th>\n",
       "      <th></th>\n",
       "      <th></th>\n",
       "      <th></th>\n",
       "      <th></th>\n",
       "      <th></th>\n",
       "      <th></th>\n",
       "      <th></th>\n",
       "      <th></th>\n",
       "      <th></th>\n",
       "      <th></th>\n",
       "      <th></th>\n",
       "      <th></th>\n",
       "      <th></th>\n",
       "    </tr>\n",
       "  </thead>\n",
       "  <tbody>\n",
       "    <tr>\n",
       "      <th>FIN1009528</th>\n",
       "      <td>284001</td>\n",
       "      <td>7/2/2008</td>\n",
       "      <td>284001.0</td>\n",
       "      <td>M</td>\n",
       "      <td>8/5/1982</td>\n",
       "      <td>S</td>\n",
       "      <td>Salaried</td>\n",
       "      <td>Graduate</td>\n",
       "      <td>5/26/2008</td>\n",
       "      <td>Level 1</td>\n",
       "      <td>...</td>\n",
       "      <td>2.0</td>\n",
       "      <td>Probation</td>\n",
       "      <td>F</td>\n",
       "      <td>10/14/1978</td>\n",
       "      <td>1.0</td>\n",
       "      <td>0.0</td>\n",
       "      <td>0.0</td>\n",
       "      <td>0.0</td>\n",
       "      <td>0.0</td>\n",
       "      <td>0.0</td>\n",
       "    </tr>\n",
       "    <tr>\n",
       "      <th>FIN1009529</th>\n",
       "      <td>800001</td>\n",
       "      <td>7/2/2008</td>\n",
       "      <td>800026.0</td>\n",
       "      <td>M</td>\n",
       "      <td>3/11/1968</td>\n",
       "      <td>M</td>\n",
       "      <td>Salaried</td>\n",
       "      <td>Graduate</td>\n",
       "      <td>6/24/2008</td>\n",
       "      <td>Level 1</td>\n",
       "      <td>...</td>\n",
       "      <td>2.0</td>\n",
       "      <td>Probation</td>\n",
       "      <td>M</td>\n",
       "      <td>3/3/1971</td>\n",
       "      <td>2.0</td>\n",
       "      <td>0.0</td>\n",
       "      <td>0.0</td>\n",
       "      <td>0.0</td>\n",
       "      <td>0.0</td>\n",
       "      <td>0.0</td>\n",
       "    </tr>\n",
       "    <tr>\n",
       "      <th>FIN1009530</th>\n",
       "      <td>800001</td>\n",
       "      <td>7/2/2008</td>\n",
       "      <td>NaN</td>\n",
       "      <td>M</td>\n",
       "      <td>12/16/1984</td>\n",
       "      <td>S</td>\n",
       "      <td>NaN</td>\n",
       "      <td>Graduate</td>\n",
       "      <td>NaN</td>\n",
       "      <td>NaN</td>\n",
       "      <td>...</td>\n",
       "      <td>NaN</td>\n",
       "      <td>NaN</td>\n",
       "      <td>NaN</td>\n",
       "      <td>NaN</td>\n",
       "      <td>NaN</td>\n",
       "      <td>NaN</td>\n",
       "      <td>NaN</td>\n",
       "      <td>NaN</td>\n",
       "      <td>NaN</td>\n",
       "      <td>NaN</td>\n",
       "    </tr>\n",
       "    <tr>\n",
       "      <th>FIN1009531</th>\n",
       "      <td>800001</td>\n",
       "      <td>7/2/2008</td>\n",
       "      <td>844112.0</td>\n",
       "      <td>M</td>\n",
       "      <td>6/7/1971</td>\n",
       "      <td>S</td>\n",
       "      <td>Salaried</td>\n",
       "      <td>Graduate</td>\n",
       "      <td>NaN</td>\n",
       "      <td>NaN</td>\n",
       "      <td>...</td>\n",
       "      <td>NaN</td>\n",
       "      <td>NaN</td>\n",
       "      <td>NaN</td>\n",
       "      <td>NaN</td>\n",
       "      <td>NaN</td>\n",
       "      <td>NaN</td>\n",
       "      <td>NaN</td>\n",
       "      <td>NaN</td>\n",
       "      <td>NaN</td>\n",
       "      <td>NaN</td>\n",
       "    </tr>\n",
       "    <tr>\n",
       "      <th>FIN1009532</th>\n",
       "      <td>533101</td>\n",
       "      <td>7/2/2008</td>\n",
       "      <td>533102.0</td>\n",
       "      <td>M</td>\n",
       "      <td>7/22/1978</td>\n",
       "      <td>S</td>\n",
       "      <td>NaN</td>\n",
       "      <td>Masters of Business Administration</td>\n",
       "      <td>12/4/2007</td>\n",
       "      <td>Level 2</td>\n",
       "      <td>...</td>\n",
       "      <td>3.0</td>\n",
       "      <td>Confirmation</td>\n",
       "      <td>M</td>\n",
       "      <td>6/23/1977</td>\n",
       "      <td>4.0</td>\n",
       "      <td>1.0</td>\n",
       "      <td>97352.0</td>\n",
       "      <td>3.0</td>\n",
       "      <td>97352.0</td>\n",
       "      <td>3.0</td>\n",
       "    </tr>\n",
       "  </tbody>\n",
       "</table>\n",
       "<p>5 rows × 21 columns</p>\n",
       "</div>"
      ],
      "text/plain": [
       "            Office_PIN Application_Receipt_Date  Applicant_City_PIN  \\\n",
       "ID                                                                    \n",
       "FIN1009528      284001                 7/2/2008            284001.0   \n",
       "FIN1009529      800001                 7/2/2008            800026.0   \n",
       "FIN1009530      800001                 7/2/2008                 NaN   \n",
       "FIN1009531      800001                 7/2/2008            844112.0   \n",
       "FIN1009532      533101                 7/2/2008            533102.0   \n",
       "\n",
       "           Applicant_Gender Applicant_BirthDate Applicant_Marital_Status  \\\n",
       "ID                                                                         \n",
       "FIN1009528                M            8/5/1982                        S   \n",
       "FIN1009529                M           3/11/1968                        M   \n",
       "FIN1009530                M          12/16/1984                        S   \n",
       "FIN1009531                M            6/7/1971                        S   \n",
       "FIN1009532                M           7/22/1978                        S   \n",
       "\n",
       "           Applicant_Occupation             Applicant_Qualification  \\\n",
       "ID                                                                    \n",
       "FIN1009528             Salaried                            Graduate   \n",
       "FIN1009529             Salaried                            Graduate   \n",
       "FIN1009530                  NaN                            Graduate   \n",
       "FIN1009531             Salaried                            Graduate   \n",
       "FIN1009532                  NaN  Masters of Business Administration   \n",
       "\n",
       "           Manager_DOJ Manager_Joining_Designation          ...            \\\n",
       "ID                                                          ...             \n",
       "FIN1009528   5/26/2008                     Level 1          ...             \n",
       "FIN1009529   6/24/2008                     Level 1          ...             \n",
       "FIN1009530         NaN                         NaN          ...             \n",
       "FIN1009531         NaN                         NaN          ...             \n",
       "FIN1009532   12/4/2007                     Level 2          ...             \n",
       "\n",
       "           Manager_Grade  Manager_Status Manager_Gender Manager_DoB  \\\n",
       "ID                                                                    \n",
       "FIN1009528           2.0       Probation              F  10/14/1978   \n",
       "FIN1009529           2.0       Probation              M    3/3/1971   \n",
       "FIN1009530           NaN             NaN            NaN         NaN   \n",
       "FIN1009531           NaN             NaN            NaN         NaN   \n",
       "FIN1009532           3.0    Confirmation              M   6/23/1977   \n",
       "\n",
       "           Manager_Num_Application  Manager_Num_Coded  Manager_Business  \\\n",
       "ID                                                                        \n",
       "FIN1009528                     1.0                0.0               0.0   \n",
       "FIN1009529                     2.0                0.0               0.0   \n",
       "FIN1009530                     NaN                NaN               NaN   \n",
       "FIN1009531                     NaN                NaN               NaN   \n",
       "FIN1009532                     4.0                1.0           97352.0   \n",
       "\n",
       "            Manager_Num_Products  Manager_Business2  Manager_Num_Products2  \n",
       "ID                                                                          \n",
       "FIN1009528                   0.0                0.0                    0.0  \n",
       "FIN1009529                   0.0                0.0                    0.0  \n",
       "FIN1009530                   NaN                NaN                    NaN  \n",
       "FIN1009531                   NaN                NaN                    NaN  \n",
       "FIN1009532                   3.0            97352.0                    3.0  \n",
       "\n",
       "[5 rows x 21 columns]"
      ]
     },
     "execution_count": 76,
     "metadata": {},
     "output_type": "execute_result"
    }
   ],
   "source": [
    "# Return top 5 rows from test dataset\n",
    "\n",
    "test.head()"
   ]
  },
  {
   "cell_type": "markdown",
   "metadata": {},
   "source": [
    "## Business_Sourced is the target variable"
   ]
  },
  {
   "cell_type": "code",
   "execution_count": 77,
   "metadata": {},
   "outputs": [
    {
     "data": {
      "text/plain": [
       "Office_PIN                       int64\n",
       "Application_Receipt_Date        object\n",
       "Applicant_City_PIN             float64\n",
       "Applicant_Gender                object\n",
       "Applicant_BirthDate             object\n",
       "Applicant_Marital_Status        object\n",
       "Applicant_Occupation            object\n",
       "Applicant_Qualification         object\n",
       "Manager_DOJ                     object\n",
       "Manager_Joining_Designation     object\n",
       "Manager_Current_Designation     object\n",
       "Manager_Grade                  float64\n",
       "Manager_Status                  object\n",
       "Manager_Gender                  object\n",
       "Manager_DoB                     object\n",
       "Manager_Num_Application        float64\n",
       "Manager_Num_Coded              float64\n",
       "Manager_Business               float64\n",
       "Manager_Num_Products           float64\n",
       "Manager_Business2              float64\n",
       "Manager_Num_Products2          float64\n",
       "Business_Sourced                 int64\n",
       "dtype: object"
      ]
     },
     "execution_count": 77,
     "metadata": {},
     "output_type": "execute_result"
    }
   ],
   "source": [
    "# Returns the data types of the dataset\n",
    "\n",
    "train.dtypes"
   ]
  },
  {
   "cell_type": "code",
   "execution_count": 78,
   "metadata": {},
   "outputs": [],
   "source": [
    "# This is not required, judt did it to make the data more readable\n",
    "\n",
    "cleanup_values={'Applicant_Gender':{'M':1,'F':0},'Manager_Gender':{'M':1,'F':0},'Applicant_Marital_Status':{'S':0,'M':1,'W':2,'D':3},\n",
    "             'Applicant_Occupation':{'Others':0,'Salaried':1,'Business':2,'Self Employed':3,'Student':4},\n",
    "             'Applicant_Qualification':{'Others':0,'Class XII':1,'Class X':2,'Graduate':3,'Masters of Business Administration':4,'Associate / Fellow of Institute of Chartered Accountans of India':5,\n",
    "                                       'Associate/Fellow of Institute of Company Secretories of India':6,'Associate/Fellow of Acturial Society of India':7,'Certified Associateship of Indian Institute of Bankers':8,\n",
    "                                       'Associate/Fellow of Insurance Institute of India':9,'Professional Qualification in Marketing':10,'Associate/Fellow of Institute of Institute of Costs and Works Accountants of India':11},\n",
    "              'Manager_Joining_Designation':{'Other':0,'Level 1':1,'Level 2':2,'Level 3':3,'Level 4':4,'Level 5':5,'Level 6':6,'Level 7':7},\n",
    "              'Manager_Current_Designation':{'Other':0,'Level 1':1,'Level 2':2,'Level 3':3,'Level 4':4,'Level 5':5,'Level 6':6,'Level 7':7},\n",
    "              'Manager_Status':{'Probation':0,'Confirmation':1}\n",
    "             }"
   ]
  },
  {
   "cell_type": "code",
   "execution_count": 79,
   "metadata": {},
   "outputs": [
    {
     "data": {
      "text/plain": [
       "['Applicant_City_PIN',\n",
       " 'Applicant_Gender',\n",
       " 'Applicant_BirthDate',\n",
       " 'Applicant_Marital_Status',\n",
       " 'Applicant_Occupation',\n",
       " 'Applicant_Qualification',\n",
       " 'Manager_DOJ',\n",
       " 'Manager_Joining_Designation',\n",
       " 'Manager_Current_Designation',\n",
       " 'Manager_Grade',\n",
       " 'Manager_Status',\n",
       " 'Manager_Gender',\n",
       " 'Manager_DoB',\n",
       " 'Manager_Num_Application',\n",
       " 'Manager_Num_Coded',\n",
       " 'Manager_Business',\n",
       " 'Manager_Num_Products',\n",
       " 'Manager_Business2',\n",
       " 'Manager_Num_Products2']"
      ]
     },
     "execution_count": 79,
     "metadata": {},
     "output_type": "execute_result"
    }
   ],
   "source": [
    "# Returns all the columns which contains NAN from the training dataset in a list\n",
    "\n",
    "train.columns[train.isna().any()].tolist()"
   ]
  },
  {
   "cell_type": "code",
   "execution_count": 80,
   "metadata": {},
   "outputs": [],
   "source": [
    "# Returns the column names of the training and test datasets\n",
    "\n",
    "train_columns = train.columns.values.tolist()\n",
    "test_columns = test.columns.values.tolist()"
   ]
  },
  {
   "cell_type": "code",
   "execution_count": 81,
   "metadata": {},
   "outputs": [],
   "source": [
    "# Replacing the NAN value by using forward fillna\n",
    "\n",
    "train[train_columns] = train[train_columns].ffill()\n",
    "test[test_columns] = test[test_columns].ffill()"
   ]
  },
  {
   "cell_type": "code",
   "execution_count": 82,
   "metadata": {},
   "outputs": [
    {
     "data": {
      "text/plain": [
       "[]"
      ]
     },
     "execution_count": 82,
     "metadata": {},
     "output_type": "execute_result"
    }
   ],
   "source": [
    "train.columns[train.isna().any()].tolist()"
   ]
  },
  {
   "cell_type": "code",
   "execution_count": 83,
   "metadata": {},
   "outputs": [],
   "source": [
    "train.replace(cleanup_values, inplace=True)"
   ]
  },
  {
   "cell_type": "code",
   "execution_count": 84,
   "metadata": {},
   "outputs": [],
   "source": [
    "test.replace(cleanup_values, inplace=True)"
   ]
  },
  {
   "cell_type": "code",
   "execution_count": 85,
   "metadata": {},
   "outputs": [
    {
     "data": {
      "text/plain": [
       "{'boxes': [<matplotlib.lines.Line2D at 0x14f3ce98a58>],\n",
       " 'caps': [<matplotlib.lines.Line2D at 0x14f3ce9f4a8>,\n",
       "  <matplotlib.lines.Line2D at 0x14f3ce9f8d0>],\n",
       " 'fliers': [<matplotlib.lines.Line2D at 0x14f3cea5160>],\n",
       " 'means': [],\n",
       " 'medians': [<matplotlib.lines.Line2D at 0x14f3ce9fcf8>],\n",
       " 'whiskers': [<matplotlib.lines.Line2D at 0x14f3ce98ba8>,\n",
       "  <matplotlib.lines.Line2D at 0x14f3ce9f080>]}"
      ]
     },
     "execution_count": 85,
     "metadata": {},
     "output_type": "execute_result"
    },
    {
     "data": {
      "image/png": "[encoded data removed]",
      "text/plain": [
       "<matplotlib.figure.Figure at 0x14f3cfef940>"
      ]
     },
     "metadata": {},
     "output_type": "display_data"
    }
   ],
   "source": [
    "plt.boxplot(train['Manager_Business'])"
   ]
  },
  {
   "cell_type": "code",
   "execution_count": 86,
   "metadata": {},
   "outputs": [],
   "source": [
    "train.loc[train['Manager_Business']>650000,'Manager_Business']=np.mean(train['Manager_Business'])"
   ]
  },
  {
   "cell_type": "code",
   "execution_count": 87,
   "metadata": {},
   "outputs": [
    {
     "data": {
      "text/plain": [
       "{'boxes': [<matplotlib.lines.Line2D at 0x14f3cef62e8>],\n",
       " 'caps': [<matplotlib.lines.Line2D at 0x14f3cef6cf8>,\n",
       "  <matplotlib.lines.Line2D at 0x14f3cefe160>],\n",
       " 'fliers': [<matplotlib.lines.Line2D at 0x14f3cefe9b0>],\n",
       " 'means': [],\n",
       " 'medians': [<matplotlib.lines.Line2D at 0x14f3cefe588>],\n",
       " 'whiskers': [<matplotlib.lines.Line2D at 0x14f3cef6438>,\n",
       "  <matplotlib.lines.Line2D at 0x14f3cef68d0>]}"
      ]
     },
     "execution_count": 87,
     "metadata": {},
     "output_type": "execute_result"
    },
    {
     "data": {
      "image/png": "[encoded data removed]",
      "text/plain": [
       "<matplotlib.figure.Figure at 0x14f3ce989e8>"
      ]
     },
     "metadata": {},
     "output_type": "display_data"
    }
   ],
   "source": [
    "plt.boxplot(train['Manager_Business'])"
   ]
  },
  {
   "cell_type": "code",
   "execution_count": 88,
   "metadata": {},
   "outputs": [
    {
     "data": {
      "text/plain": [
       "{'boxes': [<matplotlib.lines.Line2D at 0x14f3cf570b8>],\n",
       " 'caps': [<matplotlib.lines.Line2D at 0x14f3cf57ac8>,\n",
       "  <matplotlib.lines.Line2D at 0x14f3cf57ef0>],\n",
       " 'fliers': [<matplotlib.lines.Line2D at 0x14f3cf5e780>],\n",
       " 'means': [],\n",
       " 'medians': [<matplotlib.lines.Line2D at 0x14f3cf5e358>],\n",
       " 'whiskers': [<matplotlib.lines.Line2D at 0x14f3cf57208>,\n",
       "  <matplotlib.lines.Line2D at 0x14f3cf576a0>]}"
      ]
     },
     "execution_count": 88,
     "metadata": {},
     "output_type": "execute_result"
    },
    {
     "data": {
      "image/png": "[encoded data removed]",
      "text/plain": [
       "<matplotlib.figure.Figure at 0x14f3ced1cf8>"
      ]
     },
     "metadata": {},
     "output_type": "display_data"
    }
   ],
   "source": [
    "plt.boxplot(train['Manager_Business2'])"
   ]
  },
  {
   "cell_type": "code",
   "execution_count": 89,
   "metadata": {},
   "outputs": [],
   "source": [
    "train.loc[train['Manager_Business2']>500000,'Manager_Business2']=np.mean(train['Manager_Business2'])"
   ]
  },
  {
   "cell_type": "code",
   "execution_count": 90,
   "metadata": {},
   "outputs": [
    {
     "data": {
      "text/plain": [
       "{'boxes': [<matplotlib.lines.Line2D at 0x14f3d046cf8>],\n",
       " 'caps': [<matplotlib.lines.Line2D at 0x14f3d04e748>,\n",
       "  <matplotlib.lines.Line2D at 0x14f3d04eb70>],\n",
       " 'fliers': [<matplotlib.lines.Line2D at 0x14f3d057400>],\n",
       " 'means': [],\n",
       " 'medians': [<matplotlib.lines.Line2D at 0x14f3d04ef98>],\n",
       " 'whiskers': [<matplotlib.lines.Line2D at 0x14f3d046e48>,\n",
       "  <matplotlib.lines.Line2D at 0x14f3d04e320>]}"
      ]
     },
     "execution_count": 90,
     "metadata": {},
     "output_type": "execute_result"
    },
    {
     "data": {
      "image/png": "[encoded data removed]",
      "text/plain": [
       "<matplotlib.figure.Figure at 0x14f3cf06198>"
      ]
     },
     "metadata": {},
     "output_type": "display_data"
    }
   ],
   "source": [
    "plt.boxplot(train['Manager_Business2'])"
   ]
  },
  {
   "cell_type": "code",
   "execution_count": 91,
   "metadata": {},
   "outputs": [],
   "source": [
    "x_train = train.drop(['Business_Sourced','Application_Receipt_Date','Applicant_BirthDate','Manager_DOJ','Manager_DoB'],axis=1)"
   ]
  },
  {
   "cell_type": "code",
   "execution_count": 92,
   "metadata": {},
   "outputs": [],
   "source": [
    "y_train = train[\"Business_Sourced\"]"
   ]
  },
  {
   "cell_type": "code",
   "execution_count": 93,
   "metadata": {},
   "outputs": [],
   "source": [
    "test = test.drop(['Application_Receipt_Date','Applicant_BirthDate','Manager_DOJ','Manager_DoB'], axis=1)"
   ]
  },
  {
   "cell_type": "code",
   "execution_count": 94,
   "metadata": {},
   "outputs": [],
   "source": [
    "from sklearn.utils import shuffle\n",
    "from sklearn.tree import DecisionTreeClassifier"
   ]
  },
  {
   "cell_type": "code",
   "execution_count": 2,
   "metadata": {},
   "outputs": [
    {
     "ename": "NameError",
     "evalue": "name 'DecisionTreeClassifier' is not defined",
     "output_type": "error",
     "traceback": [
      "\u001b[1;31m---------------------------------------------------------------------------\u001b[0m",
      "\u001b[1;31mNameError\u001b[0m                                 Traceback (most recent call last)",
      "\u001b[1;32m<ipython-input-2-a4b1d18463e4>\u001b[0m in \u001b[0;36m<module>\u001b[1;34m()\u001b[0m\n\u001b[1;32m----> 1\u001b[1;33m \u001b[0mdtc\u001b[0m \u001b[1;33m=\u001b[0m \u001b[0mDecisionTreeClassifier\u001b[0m\u001b[1;33m(\u001b[0m\u001b[0mmin_samples_split\u001b[0m\u001b[1;33m=\u001b[0m\u001b[1;36m170\u001b[0m\u001b[1;33m)\u001b[0m\u001b[1;33m\u001b[0m\u001b[0m\n\u001b[0m",
      "\u001b[1;31mNameError\u001b[0m: name 'DecisionTreeClassifier' is not defined"
     ]
    }
   ],
   "source": [
    "dtc = DecisionTreeClassifier(min_samples_split=170)"
   ]
  },
  {
   "cell_type": "code",
   "execution_count": 96,
   "metadata": {},
   "outputs": [
    {
     "data": {
      "text/plain": [
       "DecisionTreeClassifier(class_weight=None, criterion='gini', max_depth=None,\n",
       "            max_features=None, max_leaf_nodes=None,\n",
       "            min_impurity_decrease=0.0, min_impurity_split=None,\n",
       "            min_samples_leaf=1, min_samples_split=170,\n",
       "            min_weight_fraction_leaf=0.0, presort=False, random_state=None,\n",
       "            splitter='best')"
      ]
     },
     "execution_count": 96,
     "metadata": {},
     "output_type": "execute_result"
    }
   ],
   "source": [
    "dtc.fit(x_train, y_train)"
   ]
  },
  {
   "cell_type": "code",
   "execution_count": 1,
   "metadata": {},
   "outputs": [
    {
     "ename": "NameError",
     "evalue": "name 'dtc' is not defined",
     "output_type": "error",
     "traceback": [
      "\u001b[1;31m---------------------------------------------------------------------------\u001b[0m",
      "\u001b[1;31mNameError\u001b[0m                                 Traceback (most recent call last)",
      "\u001b[1;32m<ipython-input-1-639073b9d1de>\u001b[0m in \u001b[0;36m<module>\u001b[1;34m()\u001b[0m\n\u001b[1;32m----> 1\u001b[1;33m \u001b[0mdtc\u001b[0m\u001b[1;33m.\u001b[0m\u001b[0mscore\u001b[0m\u001b[1;33m(\u001b[0m\u001b[0mx_train\u001b[0m\u001b[1;33m,\u001b[0m \u001b[0my_train\u001b[0m\u001b[1;33m)\u001b[0m\u001b[1;33m\u001b[0m\u001b[0m\n\u001b[0m",
      "\u001b[1;31mNameError\u001b[0m: name 'dtc' is not defined"
     ]
    }
   ],
   "source": [
    "dtc.score(x_train, y_train)"
   ]
  },
  {
   "cell_type": "code",
   "execution_count": 97,
   "metadata": {},
   "outputs": [],
   "source": [
    "pred = dtc.predict(test)"
   ]
  },
  {
   "cell_type": "code",
   "execution_count": 98,
   "metadata": {},
   "outputs": [
    {
     "data": {
      "text/plain": [
       "array([0, 0, 0, ..., 1, 0, 0], dtype=int64)"
      ]
     },
     "execution_count": 98,
     "metadata": {},
     "output_type": "execute_result"
    }
   ],
   "source": [
    "pred"
   ]
  },
  {
   "cell_type": "code",
   "execution_count": 99,
   "metadata": {},
   "outputs": [],
   "source": [
    "result = {\"ID\":test.index, \"Business_Sourced\":pred}"
   ]
  },
  {
   "cell_type": "code",
   "execution_count": 100,
   "metadata": {},
   "outputs": [],
   "source": [
    "output = pd.DataFrame(result)"
   ]
  },
  {
   "cell_type": "code",
   "execution_count": 101,
   "metadata": {},
   "outputs": [
    {
     "data": {
      "text/plain": [
       "0    4017\n",
       "1    1028\n",
       "Name: Business_Sourced, dtype: int64"
      ]
     },
     "execution_count": 101,
     "metadata": {},
     "output_type": "execute_result"
    }
   ],
   "source": [
    "output[\"Business_Sourced\"].value_counts()"
   ]
  },
  {
   "cell_type": "code",
   "execution_count": 102,
   "metadata": {},
   "outputs": [],
   "source": [
    "output.to_csv(\"sample_submission.csv\", index=False)"
   ]
  },
  {
   "cell_type": "code",
   "execution_count": null,
   "metadata": {},
   "outputs": [],
   "source": []
  }
 ],
 "metadata": {
  "kernelspec": {
   "display_name": "Python 3",
   "language": "python",
   "name": "python3"
  },
  "language_info": {
   "codemirror_mode": {
    "name": "ipython",
    "version": 3
   },
   "file_extension": ".py",
   "mimetype": "text/x-python",
   "name": "python",
   "nbconvert_exporter": "python",
   "pygments_lexer": "ipython3",
   "version": "3.6.4"
  }
 },
 "nbformat": 4,
 "nbformat_minor": 2
}
